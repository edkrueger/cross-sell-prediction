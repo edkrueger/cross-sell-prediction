{
 "cells": [
  {
   "cell_type": "code",
   "execution_count": 1,
   "id": "9361ec8a",
   "metadata": {},
   "outputs": [],
   "source": [
    "%load_ext lab_black"
   ]
  },
  {
   "cell_type": "code",
   "execution_count": 2,
   "id": "a9186571",
   "metadata": {},
   "outputs": [],
   "source": [
    "import os\n",
    "\n",
    "import pandas as pd\n",
    "\n",
    "from sklearn.base import clone\n",
    "\n",
    "from sklearn.pipeline import make_pipeline\n",
    "\n",
    "from sklearn.preprocessing import OneHotEncoder\n",
    "from sklearn.compose import ColumnTransformer\n",
    "\n",
    "from sklearn.tree import DecisionTreeClassifier\n",
    "\n",
    "from sklearn.model_selection import train_test_split, ParameterGrid, GridSearchCV\n",
    "from sklearn.metrics import (\n",
    "    make_scorer,\n",
    "    accuracy_score,\n",
    "    precision_score,\n",
    "    recall_score,\n",
    "    f1_score,\n",
    "    roc_auc_score,\n",
    ")\n",
    "\n",
    "import joblib"
   ]
  },
  {
   "cell_type": "code",
   "execution_count": 3,
   "id": "4c4b9b0d",
   "metadata": {},
   "outputs": [],
   "source": [
    "ARTIFACTS_DIRECTORY = os.path.join(\"..\", \"artifacts\")\n",
    "MAX_DEPTH_GRID_SEARCH_FILE_NAME = \"max_depth_grid_search.joblib\"\n",
    "CCP_ALPHA_GRID_SEARCH_FILE_NAME = \"ccp_alpha_grid_search.joblib\""
   ]
  },
  {
   "cell_type": "code",
   "execution_count": 4,
   "id": "38b250d4",
   "metadata": {},
   "outputs": [],
   "source": [
    "MAX_DEPTH_GRID_SEARCH_FILE_PATH = os.path.join(\n",
    "    ARTIFACTS_DIRECTORY, MAX_DEPTH_GRID_SEARCH_FILE_NAME\n",
    ")\n",
    "CCP_ALPHA_GRID_SEARCH_FILE_NAME = os.path.join(\n",
    "    ARTIFACTS_DIRECTORY, CCP_ALPHA_GRID_SEARCH_FILE_NAME\n",
    ")"
   ]
  },
  {
   "cell_type": "code",
   "execution_count": 5,
   "id": "2387959c",
   "metadata": {},
   "outputs": [],
   "source": [
    "os.makedirs(ARTIFACTS_DIRECTORY, exist_ok=True)"
   ]
  },
  {
   "cell_type": "code",
   "execution_count": 6,
   "id": "227c3760",
   "metadata": {},
   "outputs": [],
   "source": [
    "def clean_features_df(df):\n",
    "    return (\n",
    "        df.rename(columns=lambda col_name: col_name.lower())\n",
    "        .assign(\n",
    "            male=lambda df: df[\"gender\"] == \"Male\",\n",
    "            driving_license=lambda df: df[\"driving_license\"] == 1,\n",
    "            region_code=lambda df: df[\"region_code\"].astype(\"int\").astype(\"str\"),\n",
    "            previously_insured=lambda df: df[\"previously_insured\"] == 1,\n",
    "            vehicle_damage=lambda df: df[\"vehicle_damage\"] == \"Yes\",\n",
    "            policy_sales_channel=lambda df: df[\"policy_sales_channel\"]\n",
    "            .astype(\"int\")\n",
    "            .astype(\"str\"),\n",
    "            vehicle_age=lambda df: df[\"vehicle_age\"].replace(\n",
    "                {\"< 1 Year\": 0, \"1-2 Year\": 1, \"> 2 Years\": 2}\n",
    "            ),\n",
    "        )\n",
    "        .drop(\"gender\", axis=1)\n",
    "    )"
   ]
  },
  {
   "cell_type": "code",
   "execution_count": 7,
   "id": "51673989",
   "metadata": {},
   "outputs": [],
   "source": [
    "def test_model(trained_model, X_test, y_test):\n",
    "\n",
    "    y_pred = trained_model.predict(X_test)\n",
    "    y_pred_proba = trained_model.predict_proba(X_test)\n",
    "\n",
    "    return {\n",
    "        \"accuracy\": accuracy_score(y_test, y_pred),\n",
    "        \"precision\": precision_score(y_test, y_pred),\n",
    "        \"recall\": recall_score(y_test, y_pred),\n",
    "        \"f1\": f1_score(y_test, y_pred),\n",
    "        \"auc\": roc_auc_score(y_test, y_pred_proba[:, 1]),\n",
    "    }"
   ]
  },
  {
   "cell_type": "code",
   "execution_count": 8,
   "id": "badd9636",
   "metadata": {},
   "outputs": [],
   "source": [
    "df = pd.read_csv(\"../data/train.csv\").set_index(\"id\")"
   ]
  },
  {
   "cell_type": "code",
   "execution_count": 9,
   "id": "910bb479",
   "metadata": {},
   "outputs": [],
   "source": [
    "features_df = clean_features_df(df.drop(\"Response\", axis=1))"
   ]
  },
  {
   "cell_type": "code",
   "execution_count": 10,
   "id": "3afa4b69",
   "metadata": {},
   "outputs": [],
   "source": [
    "response_series = df[\"Response\"]\n",
    "response = response_series.values"
   ]
  },
  {
   "cell_type": "code",
   "execution_count": 11,
   "id": "ed6942b1",
   "metadata": {},
   "outputs": [],
   "source": [
    "X_train, X_test, y_train, y_test = train_test_split(features_df, response)"
   ]
  },
  {
   "cell_type": "code",
   "execution_count": 12,
   "id": "c3fd51b9",
   "metadata": {},
   "outputs": [],
   "source": [
    "policy_sales_channel_value_counts = X_train[\"policy_sales_channel\"].value_counts()"
   ]
  },
  {
   "cell_type": "code",
   "execution_count": 13,
   "id": "4092997b",
   "metadata": {},
   "outputs": [],
   "source": [
    "relevant_sales_policies = policy_sales_channel_value_counts[\n",
    "    policy_sales_channel_value_counts > 1000\n",
    "].unique()"
   ]
  },
  {
   "cell_type": "code",
   "execution_count": 14,
   "id": "3989a602",
   "metadata": {},
   "outputs": [],
   "source": [
    "region_code = [\"region_code\"]\n",
    "policy_sales_channel = [\"policy_sales_channel\"]\n",
    "other_categorical_features = [\n",
    "    \"driving_license\",\n",
    "    \"previously_insured\",\n",
    "    \"vehicle_damage\",\n",
    "    \"male\",\n",
    "]\n",
    "\n",
    "\n",
    "numerical_features = [\"age\", \"vehicle_age\", \"annual_premium\", \"vintage\"]"
   ]
  },
  {
   "cell_type": "code",
   "execution_count": 15,
   "id": "9805e049",
   "metadata": {},
   "outputs": [],
   "source": [
    "ct = ColumnTransformer(\n",
    "    [\n",
    "        (\n",
    "            \"cat\",\n",
    "            OneHotEncoder(),\n",
    "            other_categorical_features,\n",
    "        ),\n",
    "        (\n",
    "            \"region_code\",\n",
    "            OneHotEncoder(handle_unknown=\"ignore\"),\n",
    "            region_code,\n",
    "        ),\n",
    "        (\n",
    "            \"policy_sales_channel\",\n",
    "            OneHotEncoder(\n",
    "                categories=[relevant_sales_policies],\n",
    "                handle_unknown=\"ignore\",\n",
    "            ),\n",
    "            policy_sales_channel,\n",
    "        ),\n",
    "        (\"num\", \"passthrough\", numerical_features),\n",
    "    ]\n",
    ")"
   ]
  },
  {
   "cell_type": "code",
   "execution_count": 33,
   "id": "9caa9040",
   "metadata": {},
   "outputs": [],
   "source": [
    "# tree_pipeline = make_pipeline(ct, DecisionTreeClassifier(class_weight=\"balanced\"))\n",
    "tree_pipeline = make_pipeline(ct, DecisionTreeClassifier())"
   ]
  },
  {
   "cell_type": "code",
   "execution_count": 34,
   "id": "c4d045b5",
   "metadata": {},
   "outputs": [
    {
     "name": "stdout",
     "output_type": "stream",
     "text": [
      "CPU times: user 20.5 s, sys: 15.7 ms, total: 20.5 s\n",
      "Wall time: 20.5 s\n"
     ]
    }
   ],
   "source": [
    "%%time\n",
    "full_tree_pipeline = clone(tree_pipeline).fit(X_train, y_train)"
   ]
  },
  {
   "cell_type": "code",
   "execution_count": 35,
   "id": "49925b66",
   "metadata": {},
   "outputs": [
    {
     "data": {
      "text/plain": [
       "{'accuracy': 0.8224039127605534,\n",
       " 'precision': 0.28486622753517116,\n",
       " 'recall': 0.3012037833190026,\n",
       " 'f1': 0.29280728883687884,\n",
       " 'auc': 0.5983672479887056}"
      ]
     },
     "execution_count": 35,
     "metadata": {},
     "output_type": "execute_result"
    }
   ],
   "source": [
    "test_model(full_tree_pipeline, X_test, y_test)"
   ]
  },
  {
   "cell_type": "code",
   "execution_count": 36,
   "id": "3d867f7d",
   "metadata": {},
   "outputs": [],
   "source": [
    "max_depth = full_tree_pipeline[-1].get_depth()"
   ]
  },
  {
   "cell_type": "code",
   "execution_count": 37,
   "id": "917dc5ce",
   "metadata": {},
   "outputs": [
    {
     "name": "stdout",
     "output_type": "stream",
     "text": [
      "CPU times: user 6.2 s, sys: 3.93 ms, total: 6.21 s\n",
      "Wall time: 6.2 s\n"
     ]
    }
   ],
   "source": [
    "%%time\n",
    "ccp_alphas = full_tree_pipeline[-1].cost_complexity_pruning_path(X_train, y_train)[\"ccp_alphas\"]"
   ]
  },
  {
   "cell_type": "code",
   "execution_count": 38,
   "id": "dd8a17ee",
   "metadata": {},
   "outputs": [
    {
     "data": {
      "text/plain": [
       "83"
      ]
     },
     "execution_count": 38,
     "metadata": {},
     "output_type": "execute_result"
    }
   ],
   "source": [
    "max_depth"
   ]
  },
  {
   "cell_type": "code",
   "execution_count": 39,
   "id": "6ad3ab27",
   "metadata": {},
   "outputs": [
    {
     "data": {
      "text/plain": [
       "(13170,)"
      ]
     },
     "execution_count": 39,
     "metadata": {},
     "output_type": "execute_result"
    }
   ],
   "source": [
    "ccp_alphas.shape"
   ]
  },
  {
   "cell_type": "code",
   "execution_count": 40,
   "id": "c9cdb1a2",
   "metadata": {},
   "outputs": [
    {
     "data": {
      "text/plain": [
       "<bound method Pipeline.get_params of Pipeline(steps=[('columntransformer',\n",
       "                 ColumnTransformer(transformers=[('cat', OneHotEncoder(),\n",
       "                                                  ['driving_license',\n",
       "                                                   'previously_insured',\n",
       "                                                   'vehicle_damage', 'male']),\n",
       "                                                 ('region_code',\n",
       "                                                  OneHotEncoder(handle_unknown='ignore'),\n",
       "                                                  ['region_code']),\n",
       "                                                 ('policy_sales_channel',\n",
       "                                                  OneHotEncoder(categories=[array([101004,  59852,  55498,  16344,   8039,   7386,   5021,   4530,\n",
       "         2908,   2148,   1406,   1398,   1174,   1134,   1083])],\n",
       "                                                                handle_unknown='ignore'),\n",
       "                                                  ['policy_sales_channel']),\n",
       "                                                 ('num', 'passthrough',\n",
       "                                                  ['age', 'vehicle_age',\n",
       "                                                   'annual_premium',\n",
       "                                                   'vintage'])])),\n",
       "                ('decisiontreeclassifier', DecisionTreeClassifier())])>"
      ]
     },
     "execution_count": 40,
     "metadata": {},
     "output_type": "execute_result"
    }
   ],
   "source": [
    "full_tree_pipeline.get_params"
   ]
  },
  {
   "cell_type": "code",
   "execution_count": 41,
   "id": "6fa5aa94",
   "metadata": {},
   "outputs": [],
   "source": [
    "grid_search_cv_params = {\n",
    "    \"estimator\": full_tree_pipeline,\n",
    "    \"scoring\": make_scorer(roc_auc_score),\n",
    "    \"n_jobs\": -1,\n",
    "    \"cv\": 2,\n",
    "}"
   ]
  },
  {
   "cell_type": "code",
   "execution_count": 42,
   "id": "6a7259cb",
   "metadata": {},
   "outputs": [],
   "source": [
    "max_depth_grid_search = GridSearchCV(\n",
    "    **grid_search_cv_params,\n",
    "    param_grid=ParameterGrid(\n",
    "        {\n",
    "            \"decisiontreeclassifier__max_depth\": [\n",
    "                [max_depth] for max_depth in range(1, max_depth)\n",
    "            ]\n",
    "        }\n",
    "    )\n",
    ")"
   ]
  },
  {
   "cell_type": "code",
   "execution_count": 43,
   "id": "2187142e",
   "metadata": {},
   "outputs": [
    {
     "name": "stdout",
     "output_type": "stream",
     "text": [
      "CPU times: user 1min, sys: 229 ms, total: 1min\n",
      "Wall time: 6min 33s\n"
     ]
    },
    {
     "data": {
      "text/plain": [
       "GridSearchCV(cv=2,\n",
       "             estimator=Pipeline(steps=[('columntransformer',\n",
       "                                        ColumnTransformer(transformers=[('cat',\n",
       "                                                                         OneHotEncoder(),\n",
       "                                                                         ['driving_license',\n",
       "                                                                          'previously_insured',\n",
       "                                                                          'vehicle_damage',\n",
       "                                                                          'male']),\n",
       "                                                                        ('region_code',\n",
       "                                                                         OneHotEncoder(handle_unknown='ignore'),\n",
       "                                                                         ['region_code']),\n",
       "                                                                        ('policy_sales_channel',\n",
       "                                                                         OneHotEncoder(categories=[array([101004,  59852,  55498,  16344,   8039,   7386,   5021,   4530,\n",
       "         2908,   2148,   1406,   1398,   1174,   1134,   1083])],\n",
       "                                                                                       handle_unknown='ignore'),\n",
       "                                                                         ['policy_sales_channel']),\n",
       "                                                                        ('num',\n",
       "                                                                         'passthrough',\n",
       "                                                                         ['age',\n",
       "                                                                          'vehicle_age',\n",
       "                                                                          'annual_premium',\n",
       "                                                                          'vintage'])])),\n",
       "                                       ('decisiontreeclassifier',\n",
       "                                        DecisionTreeClassifier())]),\n",
       "             n_jobs=-1,\n",
       "             param_grid=<sklearn.model_selection._search.ParameterGrid object at 0x7f7be7ee1d50>,\n",
       "             scoring=make_scorer(roc_auc_score))"
      ]
     },
     "execution_count": 43,
     "metadata": {},
     "output_type": "execute_result"
    }
   ],
   "source": [
    "%%time\n",
    "max_depth_grid_search.fit(X_train, y_train);"
   ]
  },
  {
   "cell_type": "code",
   "execution_count": 44,
   "id": "16d02022",
   "metadata": {},
   "outputs": [
    {
     "data": {
      "text/plain": [
       "Pipeline(steps=[('columntransformer',\n",
       "                 ColumnTransformer(transformers=[('cat', OneHotEncoder(),\n",
       "                                                  ['driving_license',\n",
       "                                                   'previously_insured',\n",
       "                                                   'vehicle_damage', 'male']),\n",
       "                                                 ('region_code',\n",
       "                                                  OneHotEncoder(handle_unknown='ignore'),\n",
       "                                                  ['region_code']),\n",
       "                                                 ('policy_sales_channel',\n",
       "                                                  OneHotEncoder(categories=[array([101004,  59852,  55498,  16344,   8039,   7386,   5021,   4530,\n",
       "         2908,   2148,   1406,   1398,   1174,   1134,   1083])],\n",
       "                                                                handle_unknown='ignore'),\n",
       "                                                  ['policy_sales_channel']),\n",
       "                                                 ('num', 'passthrough',\n",
       "                                                  ['age', 'vehicle_age',\n",
       "                                                   'annual_premium',\n",
       "                                                   'vintage'])])),\n",
       "                ('decisiontreeclassifier',\n",
       "                 DecisionTreeClassifier(max_depth=74))])"
      ]
     },
     "execution_count": 44,
     "metadata": {},
     "output_type": "execute_result"
    }
   ],
   "source": [
    "max_depth_grid_search.best_estimator_"
   ]
  },
  {
   "cell_type": "code",
   "execution_count": 45,
   "id": "6a60d54d",
   "metadata": {},
   "outputs": [
    {
     "data": {
      "text/plain": [
       "{'accuracy': 0.8218476458363946,\n",
       " 'precision': 0.2809476963436629,\n",
       " 'recall': 0.2946689595872743,\n",
       " 'f1': 0.2876447876447876,\n",
       " 'auc': 0.5963016802466183}"
      ]
     },
     "execution_count": 45,
     "metadata": {},
     "output_type": "execute_result"
    }
   ],
   "source": [
    "test_model(max_depth_grid_search.best_estimator_, X_test, y_test)"
   ]
  },
  {
   "cell_type": "code",
   "execution_count": 29,
   "id": "a587f0da",
   "metadata": {},
   "outputs": [
    {
     "ename": "NameError",
     "evalue": "name 'tree_model' is not defined",
     "output_type": "error",
     "traceback": [
      "\u001b[0;31m---------------------------------------------------------------------------\u001b[0m",
      "\u001b[0;31mNameError\u001b[0m                                 Traceback (most recent call last)",
      "\u001b[0;32m<timed eval>\u001b[0m in \u001b[0;36m<module>\u001b[0;34m\u001b[0m\n",
      "\u001b[0;31mNameError\u001b[0m: name 'tree_model' is not defined"
     ]
    }
   ],
   "source": [
    "%%time\n",
    "accuracy_score(y_true=y_train, y_pred=tree_model.predict(X_train))"
   ]
  },
  {
   "cell_type": "code",
   "execution_count": 30,
   "id": "c39fac75",
   "metadata": {},
   "outputs": [
    {
     "data": {
      "text/plain": [
       "2.558715667915106"
      ]
     },
     "execution_count": 30,
     "metadata": {},
     "output_type": "execute_result"
    }
   ],
   "source": [
    "(13117 * 2 / 0.712) / 60 / 60 / 4"
   ]
  }
 ],
 "metadata": {
  "environment": {
   "name": "common-cpu.m65",
   "type": "gcloud",
   "uri": "gcr.io/deeplearning-platform-release/base-cpu:m65"
  },
  "kernelspec": {
   "display_name": "Python 3",
   "language": "python",
   "name": "python3"
  },
  "language_info": {
   "codemirror_mode": {
    "name": "ipython",
    "version": 3
   },
   "file_extension": ".py",
   "mimetype": "text/x-python",
   "name": "python",
   "nbconvert_exporter": "python",
   "pygments_lexer": "ipython3",
   "version": "3.7.10"
  }
 },
 "nbformat": 4,
 "nbformat_minor": 5
}
