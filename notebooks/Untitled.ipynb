{
 "cells": [
  {
   "cell_type": "code",
   "execution_count": 1,
   "id": "e06b815b",
   "metadata": {},
   "outputs": [],
   "source": [
    "%load_ext lab_black"
   ]
  },
  {
   "cell_type": "code",
   "execution_count": 28,
   "id": "9ce1be90",
   "metadata": {},
   "outputs": [],
   "source": [
    "import pandas as pd\n",
    "\n",
    "from sklearn.pipeline import make_pipeline\n",
    "\n",
    "from sklearn.preprocessing import OneHotEncoder\n",
    "from sklearn.compose import ColumnTransformer\n",
    "\n",
    "from sklearn.tree import DecisionTreeClassifier\n",
    "\n",
    "from sklearn.model_selection import cross_validate\n",
    "from sklearn.metrics import (\n",
    "    make_scorer,\n",
    "    accuracy_score,\n",
    "    precision_score,\n",
    "    recall_score,\n",
    "    f1_score,\n",
    "    roc_auc_score,\n",
    ")"
   ]
  },
  {
   "cell_type": "code",
   "execution_count": null,
   "id": "860cfad1",
   "metadata": {},
   "outputs": [],
   "source": [
    "def cross_validate_model(model, X, y):\n",
    "    result = cross_validate(tree_model, X=features_df, y=y, scoring={\n",
    "        \"accuracy\": make_scorer(accuracy_score),\n",
    "        \"precision\": make_scorer(precision_score),\n",
    "        \"recall\": make_scorer(recall_score),\n",
    "        \"f1\": make_scorer(f1_score),\n",
    "        \"auc\": make_scorer(roc_auc_score),\n",
    "    }, cv=3, n_jobs=-1)\n",
    "    \n",
    "    return {score_name: score.mean() for score_name, score in result.items()}"
   ]
  },
  {
   "cell_type": "code",
   "execution_count": 3,
   "id": "0d4b6525",
   "metadata": {},
   "outputs": [],
   "source": [
    "df = pd.read_csv(\"../data/train.csv\").set_index(\"id\")"
   ]
  },
  {
   "cell_type": "code",
   "execution_count": 4,
   "id": "308bcdb4",
   "metadata": {},
   "outputs": [],
   "source": [
    "features_df = (\n",
    "    df.drop(\"Response\", axis=1)\n",
    "    .rename(columns=lambda col_name: col_name.lower())\n",
    "    .assign(male=lambda df: df[\"gender\"] == \"Male\")\n",
    "    .drop(\"gender\", axis=1)\n",
    "    .assign(\n",
    "        vehicle_damage=lambda df: df[\"vehicle_damage\"] == \"Yes\",\n",
    "        region_code=lambda df: df[\"region_code\"].astype(\"int\").astype(\"category\"),\n",
    "        policy_sales_channel=lambda df: df[\"policy_sales_channel\"]\n",
    "        .astype(\"int\")\n",
    "        .astype(\"category\"),\n",
    "        vehicle_age=lambda df: (\n",
    "            df[\"vehicle_age\"]\n",
    "            .replace({\"< 1 Year\": 0, \"1-2 Year\": 1, \"> 2 Years\": 2})\n",
    "            .astype(\"int\")\n",
    "            .astype(\"category\")\n",
    "        ),\n",
    "    )\n",
    ")\n",
    "y = df[\"Response\"].values"
   ]
  },
  {
   "cell_type": "code",
   "execution_count": 5,
   "id": "7db7d807",
   "metadata": {},
   "outputs": [
    {
     "data": {
      "text/plain": [
       "28    106415\n",
       "8      33877\n",
       "46     19749\n",
       "41     18263\n",
       "15     13308\n",
       "30     12191\n",
       "29     11065\n",
       "50     10243\n",
       "3       9251\n",
       "11      9232\n",
       "36      8797\n",
       "33      7654\n",
       "47      7436\n",
       "35      6942\n",
       "6       6280\n",
       "45      5605\n",
       "37      5501\n",
       "18      5153\n",
       "48      4681\n",
       "14      4678\n",
       "39      4644\n",
       "10      4374\n",
       "21      4266\n",
       "2       4038\n",
       "13      4036\n",
       "7       3279\n",
       "12      3198\n",
       "9       3101\n",
       "27      2823\n",
       "32      2787\n",
       "43      2639\n",
       "17      2617\n",
       "26      2587\n",
       "25      2503\n",
       "24      2415\n",
       "38      2026\n",
       "0       2021\n",
       "16      2007\n",
       "31      1960\n",
       "23      1960\n",
       "20      1935\n",
       "49      1832\n",
       "4       1801\n",
       "34      1664\n",
       "19      1535\n",
       "22      1309\n",
       "40      1295\n",
       "5       1279\n",
       "1       1008\n",
       "44       808\n",
       "42       591\n",
       "52       267\n",
       "51       183\n",
       "Name: region_code, dtype: int64"
      ]
     },
     "execution_count": 5,
     "metadata": {},
     "output_type": "execute_result"
    }
   ],
   "source": [
    "features_df[\"region_code\"].value_counts()"
   ]
  },
  {
   "cell_type": "code",
   "execution_count": 6,
   "id": "36bceddb",
   "metadata": {},
   "outputs": [
    {
     "data": {
      "text/plain": [
       "152    134784\n",
       "26      79700\n",
       "124     73995\n",
       "160     21779\n",
       "156     10661\n",
       "        ...  \n",
       "149         1\n",
       "84          1\n",
       "123         1\n",
       "144         1\n",
       "143         1\n",
       "Name: policy_sales_channel, Length: 155, dtype: int64"
      ]
     },
     "execution_count": 6,
     "metadata": {},
     "output_type": "execute_result"
    }
   ],
   "source": [
    "# we could remove some features by binning all the sales channels that have less than n observations in the training set.\n",
    "features_df[\"policy_sales_channel\"].value_counts()"
   ]
  },
  {
   "cell_type": "code",
   "execution_count": 7,
   "id": "0123f5b1",
   "metadata": {},
   "outputs": [
    {
     "data": {
      "text/html": [
       "<div>\n",
       "<style scoped>\n",
       "    .dataframe tbody tr th:only-of-type {\n",
       "        vertical-align: middle;\n",
       "    }\n",
       "\n",
       "    .dataframe tbody tr th {\n",
       "        vertical-align: top;\n",
       "    }\n",
       "\n",
       "    .dataframe thead th {\n",
       "        text-align: right;\n",
       "    }\n",
       "</style>\n",
       "<table border=\"1\" class=\"dataframe\">\n",
       "  <thead>\n",
       "    <tr style=\"text-align: right;\">\n",
       "      <th></th>\n",
       "      <th>age</th>\n",
       "      <th>driving_license</th>\n",
       "      <th>region_code</th>\n",
       "      <th>previously_insured</th>\n",
       "      <th>vehicle_age</th>\n",
       "      <th>vehicle_damage</th>\n",
       "      <th>annual_premium</th>\n",
       "      <th>policy_sales_channel</th>\n",
       "      <th>vintage</th>\n",
       "      <th>male</th>\n",
       "    </tr>\n",
       "    <tr>\n",
       "      <th>id</th>\n",
       "      <th></th>\n",
       "      <th></th>\n",
       "      <th></th>\n",
       "      <th></th>\n",
       "      <th></th>\n",
       "      <th></th>\n",
       "      <th></th>\n",
       "      <th></th>\n",
       "      <th></th>\n",
       "      <th></th>\n",
       "    </tr>\n",
       "  </thead>\n",
       "  <tbody>\n",
       "    <tr>\n",
       "      <th>1</th>\n",
       "      <td>44</td>\n",
       "      <td>1</td>\n",
       "      <td>28</td>\n",
       "      <td>0</td>\n",
       "      <td>2</td>\n",
       "      <td>True</td>\n",
       "      <td>40454.0</td>\n",
       "      <td>26</td>\n",
       "      <td>217</td>\n",
       "      <td>True</td>\n",
       "    </tr>\n",
       "    <tr>\n",
       "      <th>2</th>\n",
       "      <td>76</td>\n",
       "      <td>1</td>\n",
       "      <td>3</td>\n",
       "      <td>0</td>\n",
       "      <td>1</td>\n",
       "      <td>False</td>\n",
       "      <td>33536.0</td>\n",
       "      <td>26</td>\n",
       "      <td>183</td>\n",
       "      <td>True</td>\n",
       "    </tr>\n",
       "    <tr>\n",
       "      <th>3</th>\n",
       "      <td>47</td>\n",
       "      <td>1</td>\n",
       "      <td>28</td>\n",
       "      <td>0</td>\n",
       "      <td>2</td>\n",
       "      <td>True</td>\n",
       "      <td>38294.0</td>\n",
       "      <td>26</td>\n",
       "      <td>27</td>\n",
       "      <td>True</td>\n",
       "    </tr>\n",
       "    <tr>\n",
       "      <th>4</th>\n",
       "      <td>21</td>\n",
       "      <td>1</td>\n",
       "      <td>11</td>\n",
       "      <td>1</td>\n",
       "      <td>0</td>\n",
       "      <td>False</td>\n",
       "      <td>28619.0</td>\n",
       "      <td>152</td>\n",
       "      <td>203</td>\n",
       "      <td>True</td>\n",
       "    </tr>\n",
       "    <tr>\n",
       "      <th>5</th>\n",
       "      <td>29</td>\n",
       "      <td>1</td>\n",
       "      <td>41</td>\n",
       "      <td>1</td>\n",
       "      <td>0</td>\n",
       "      <td>False</td>\n",
       "      <td>27496.0</td>\n",
       "      <td>152</td>\n",
       "      <td>39</td>\n",
       "      <td>False</td>\n",
       "    </tr>\n",
       "  </tbody>\n",
       "</table>\n",
       "</div>"
      ],
      "text/plain": [
       "    age  driving_license region_code  previously_insured vehicle_age  \\\n",
       "id                                                                     \n",
       "1    44                1          28                   0           2   \n",
       "2    76                1           3                   0           1   \n",
       "3    47                1          28                   0           2   \n",
       "4    21                1          11                   1           0   \n",
       "5    29                1          41                   1           0   \n",
       "\n",
       "    vehicle_damage  annual_premium policy_sales_channel  vintage   male  \n",
       "id                                                                       \n",
       "1             True         40454.0                   26      217   True  \n",
       "2            False         33536.0                   26      183   True  \n",
       "3             True         38294.0                   26       27   True  \n",
       "4            False         28619.0                  152      203   True  \n",
       "5            False         27496.0                  152       39  False  "
      ]
     },
     "execution_count": 7,
     "metadata": {},
     "output_type": "execute_result"
    }
   ],
   "source": [
    "features_df.head()"
   ]
  },
  {
   "cell_type": "code",
   "execution_count": 8,
   "id": "2fb13fb4",
   "metadata": {},
   "outputs": [],
   "source": [
    "categorical_features = [\n",
    "    \"driving_license\",\n",
    "    \"region_code\",\n",
    "    \"previously_insured\",\n",
    "    \"vehicle_damage\",\n",
    "    \"policy_sales_channel\",\n",
    "    \"male\",\n",
    "]\n",
    "\n",
    "numerical_features = [\"age\", \"vehicle_age\", \"annual_premium\", \"vintage\"]"
   ]
  },
  {
   "cell_type": "code",
   "execution_count": 30,
   "id": "581cc49b",
   "metadata": {},
   "outputs": [],
   "source": [
    "ct = ColumnTransformer(\n",
    "    [\n",
    "        (\n",
    "            \"cat\",\n",
    "            OneHotEncoder(handle_unknown=\"ignore\"),\n",
    "            categorical_features,\n",
    "        ),\n",
    "        (\"num\", \"passthrough\", numerical_features),\n",
    "    ]\n",
    ")"
   ]
  },
  {
   "cell_type": "code",
   "execution_count": 31,
   "id": "f09824b3",
   "metadata": {},
   "outputs": [
    {
     "data": {
      "text/plain": [
       "array([1, 0, 1, ..., 0, 0, 0])"
      ]
     },
     "execution_count": 31,
     "metadata": {},
     "output_type": "execute_result"
    }
   ],
   "source": [
    "y"
   ]
  },
  {
   "cell_type": "code",
   "execution_count": 38,
   "id": "3babc894",
   "metadata": {},
   "outputs": [],
   "source": [
    "tree_model = make_pipeline(\n",
    "    ct,\n",
    "    DecisionTreeClassifier(class_weight=\"balanced\"),\n",
    ")"
   ]
  },
  {
   "cell_type": "code",
   "execution_count": 33,
   "id": "452ea39c",
   "metadata": {},
   "outputs": [
    {
     "data": {
      "text/plain": [
       "Pipeline(steps=[('columntransformer',\n",
       "                 ColumnTransformer(transformers=[('cat',\n",
       "                                                  OneHotEncoder(handle_unknown='ignore'),\n",
       "                                                  ['driving_license',\n",
       "                                                   'region_code',\n",
       "                                                   'previously_insured',\n",
       "                                                   'vehicle_damage',\n",
       "                                                   'policy_sales_channel',\n",
       "                                                   'male']),\n",
       "                                                 ('num', 'passthrough',\n",
       "                                                  ['age', 'vehicle_age',\n",
       "                                                   'annual_premium',\n",
       "                                                   'vintage'])])),\n",
       "                ('decisiontreeclassifier', DecisionTreeClassifier())])"
      ]
     },
     "execution_count": 33,
     "metadata": {},
     "output_type": "execute_result"
    }
   ],
   "source": [
    "tree_model.fit(features_df, y)"
   ]
  },
  {
   "cell_type": "code",
   "execution_count": 34,
   "id": "49b5e160",
   "metadata": {},
   "outputs": [],
   "source": [
    "y_hat = tree_model.predict(features_df)"
   ]
  },
  {
   "cell_type": "code",
   "execution_count": 39,
   "id": "bfb7e678",
   "metadata": {},
   "outputs": [
    {
     "name": "stdout",
     "output_type": "stream",
     "text": [
      "CPU times: user 98.4 ms, sys: 32.1 ms, total: 131 ms\n",
      "Wall time: 38.5 s\n"
     ]
    },
    {
     "data": {
      "text/plain": [
       "{'fit_time': 33.70823184649149,\n",
       " 'score_time': 0.3386910756429036,\n",
       " 'test_accuracy': 0.8235570418100356,\n",
       " 'test_precision': 0.29074928346970885,\n",
       " 'test_recall': 0.3054592164418754,\n",
       " 'test_f1': 0.29789669553833503,\n",
       " 'test_auc': 0.6006929720819842}"
      ]
     },
     "execution_count": 39,
     "metadata": {},
     "output_type": "execute_result"
    }
   ],
   "source": [
    "%%time\n",
    "cross_validate_model(tree_model, features_df, y)"
   ]
  }
 ],
 "metadata": {
  "environment": {
   "name": "common-cpu.m65",
   "type": "gcloud",
   "uri": "gcr.io/deeplearning-platform-release/base-cpu:m65"
  },
  "kernelspec": {
   "display_name": "Python 3",
   "language": "python",
   "name": "python3"
  },
  "language_info": {
   "codemirror_mode": {
    "name": "ipython",
    "version": 3
   },
   "file_extension": ".py",
   "mimetype": "text/x-python",
   "name": "python",
   "nbconvert_exporter": "python",
   "pygments_lexer": "ipython3",
   "version": "3.7.10"
  }
 },
 "nbformat": 4,
 "nbformat_minor": 5
}
