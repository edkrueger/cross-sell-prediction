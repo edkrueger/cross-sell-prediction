{
 "cells": [
  {
   "cell_type": "code",
   "execution_count": 1,
   "id": "ff33881d",
   "metadata": {},
   "outputs": [],
   "source": [
    "%load_ext lab_black"
   ]
  },
  {
   "cell_type": "code",
   "execution_count": 2,
   "id": "345a388b",
   "metadata": {},
   "outputs": [],
   "source": [
    "import pandas as pd\n",
    "\n",
    "from sklearn.pipeline import make_pipeline\n",
    "\n",
    "from sklearn.preprocessing import OneHotEncoder\n",
    "from sklearn.compose import ColumnTransformer\n",
    "\n",
    "from sklearn.tree import DecisionTreeClassifier\n",
    "\n",
    "from sklearn.model_selection import cross_validate\n",
    "from sklearn.metrics import (\n",
    "    make_scorer,\n",
    "    accuracy_score,\n",
    "    precision_score,\n",
    "    recall_score,\n",
    "    f1_score,\n",
    "    roc_auc_score,\n",
    ")"
   ]
  },
  {
   "cell_type": "code",
   "execution_count": 3,
   "id": "a8bc3ff1",
   "metadata": {},
   "outputs": [],
   "source": [
    "def clean_features_df(df):\n",
    "    return (\n",
    "        df.rename(columns=lambda col_name: col_name.lower())\n",
    "        .assign(\n",
    "            male=lambda df: df[\"gender\"] == \"Male\",\n",
    "            driving_license=lambda df: df[\"driving_license\"] == 1,\n",
    "            region_code=lambda df: df[\"region_code\"].astype(\"int\").astype(\"str\"),\n",
    "            previously_insured=lambda df: df[\"previously_insured\"] == 1,\n",
    "            vehicle_damage=lambda df: df[\"vehicle_damage\"] == \"Yes\",\n",
    "            policy_sales_channel=lambda df: df[\"policy_sales_channel\"]\n",
    "            .astype(\"int\")\n",
    "            .astype(\"str\"),\n",
    "            vehicle_age=lambda df: df[\"vehicle_age\"].replace(\n",
    "                {\"< 1 Year\": 0, \"1-2 Year\": 1, \"> 2 Years\": 2}\n",
    "            ),\n",
    "        )\n",
    "        .drop(\"gender\", axis=1)\n",
    "    )"
   ]
  },
  {
   "cell_type": "code",
   "execution_count": 4,
   "id": "b4ab2fa4",
   "metadata": {},
   "outputs": [],
   "source": [
    "def cross_validate_model(model, X, y):\n",
    "    result = cross_validate(\n",
    "        tree_model,\n",
    "        X=features_df,\n",
    "        y=y,\n",
    "        scoring={\n",
    "            \"accuracy\": make_scorer(accuracy_score),\n",
    "            \"precision\": make_scorer(precision_score),\n",
    "            \"recall\": make_scorer(recall_score),\n",
    "            \"f1\": make_scorer(f1_score),\n",
    "            \"auc\": make_scorer(roc_auc_score),\n",
    "        },\n",
    "        cv=3,\n",
    "        n_jobs=-1,\n",
    "    )\n",
    "\n",
    "    return {score_name: score.mean() for score_name, score in result.items()}"
   ]
  },
  {
   "cell_type": "code",
   "execution_count": 5,
   "id": "71356f5c",
   "metadata": {},
   "outputs": [],
   "source": [
    "df = pd.read_csv(\"../data/train.csv\").set_index(\"id\")"
   ]
  },
  {
   "cell_type": "code",
   "execution_count": 6,
   "id": "d7389150",
   "metadata": {},
   "outputs": [],
   "source": [
    "features_df = clean_features_df(df.drop(\"Response\", axis=1))"
   ]
  },
  {
   "cell_type": "code",
   "execution_count": 7,
   "id": "0d2fdd3b",
   "metadata": {},
   "outputs": [],
   "source": [
    "response_series = df[\"Response\"]\n",
    "response = response_series.values"
   ]
  },
  {
   "cell_type": "code",
   "execution_count": 8,
   "id": "cdecc016",
   "metadata": {},
   "outputs": [
    {
     "data": {
      "text/plain": [
       "0    334399\n",
       "1     46710\n",
       "Name: Response, dtype: int64"
      ]
     },
     "execution_count": 8,
     "metadata": {},
     "output_type": "execute_result"
    }
   ],
   "source": [
    "response_series.value_counts()"
   ]
  },
  {
   "cell_type": "code",
   "execution_count": 9,
   "id": "a3f247d3",
   "metadata": {},
   "outputs": [
    {
     "data": {
      "text/plain": [
       "0.12256336113815208"
      ]
     },
     "execution_count": 9,
     "metadata": {},
     "output_type": "execute_result"
    }
   ],
   "source": [
    "46710 / (334399 + 46710)"
   ]
  },
  {
   "cell_type": "code",
   "execution_count": 10,
   "id": "b0cfe083",
   "metadata": {},
   "outputs": [
    {
     "data": {
      "text/plain": [
       "age                       int64\n",
       "driving_license            bool\n",
       "region_code              object\n",
       "previously_insured         bool\n",
       "vehicle_age               int64\n",
       "vehicle_damage             bool\n",
       "annual_premium          float64\n",
       "policy_sales_channel     object\n",
       "vintage                   int64\n",
       "male                       bool\n",
       "dtype: object"
      ]
     },
     "execution_count": 10,
     "metadata": {},
     "output_type": "execute_result"
    }
   ],
   "source": [
    "features_df.dtypes"
   ]
  },
  {
   "cell_type": "code",
   "execution_count": 11,
   "id": "60924a34",
   "metadata": {},
   "outputs": [
    {
     "data": {
      "text/plain": [
       "True     380297\n",
       "False       812\n",
       "Name: driving_license, dtype: int64"
      ]
     },
     "execution_count": 11,
     "metadata": {},
     "output_type": "execute_result"
    }
   ],
   "source": [
    "features_df[\"driving_license\"].value_counts()"
   ]
  },
  {
   "cell_type": "code",
   "execution_count": 12,
   "id": "bf158b95",
   "metadata": {},
   "outputs": [
    {
     "data": {
      "text/plain": [
       "False    206481\n",
       "True     174628\n",
       "Name: previously_insured, dtype: int64"
      ]
     },
     "execution_count": 12,
     "metadata": {},
     "output_type": "execute_result"
    }
   ],
   "source": [
    "features_df[\"previously_insured\"].value_counts()"
   ]
  },
  {
   "cell_type": "code",
   "execution_count": 13,
   "id": "1c9f4365",
   "metadata": {},
   "outputs": [
    {
     "data": {
      "text/plain": [
       "True     192413\n",
       "False    188696\n",
       "Name: vehicle_damage, dtype: int64"
      ]
     },
     "execution_count": 13,
     "metadata": {},
     "output_type": "execute_result"
    }
   ],
   "source": [
    "features_df[\"vehicle_damage\"].value_counts()"
   ]
  },
  {
   "cell_type": "code",
   "execution_count": 14,
   "id": "1b843ddc",
   "metadata": {},
   "outputs": [
    {
     "data": {
      "text/plain": [
       "True     206089\n",
       "False    175020\n",
       "Name: male, dtype: int64"
      ]
     },
     "execution_count": 14,
     "metadata": {},
     "output_type": "execute_result"
    }
   ],
   "source": [
    "features_df[\"male\"].value_counts()"
   ]
  },
  {
   "cell_type": "code",
   "execution_count": 15,
   "id": "2e539a86",
   "metadata": {},
   "outputs": [
    {
     "data": {
      "text/plain": [
       "(53,)"
      ]
     },
     "execution_count": 15,
     "metadata": {},
     "output_type": "execute_result"
    }
   ],
   "source": [
    "features_df[\"region_code\"].unique().shape"
   ]
  },
  {
   "cell_type": "code",
   "execution_count": 16,
   "id": "ebbf5c57",
   "metadata": {},
   "outputs": [
    {
     "data": {
      "text/plain": [
       "(155,)"
      ]
     },
     "execution_count": 16,
     "metadata": {},
     "output_type": "execute_result"
    }
   ],
   "source": [
    "features_df[\"policy_sales_channel\"].unique().shape"
   ]
  },
  {
   "cell_type": "code",
   "execution_count": 17,
   "id": "e2e64862",
   "metadata": {},
   "outputs": [
    {
     "data": {
      "text/plain": [
       "28    106415\n",
       "8      33877\n",
       "46     19749\n",
       "41     18263\n",
       "15     13308\n",
       "30     12191\n",
       "29     11065\n",
       "50     10243\n",
       "3       9251\n",
       "11      9232\n",
       "36      8797\n",
       "33      7654\n",
       "47      7436\n",
       "35      6942\n",
       "6       6280\n",
       "45      5605\n",
       "37      5501\n",
       "18      5153\n",
       "48      4681\n",
       "14      4678\n",
       "39      4644\n",
       "10      4374\n",
       "21      4266\n",
       "2       4038\n",
       "13      4036\n",
       "7       3279\n",
       "12      3198\n",
       "9       3101\n",
       "27      2823\n",
       "32      2787\n",
       "43      2639\n",
       "17      2617\n",
       "26      2587\n",
       "25      2503\n",
       "24      2415\n",
       "38      2026\n",
       "0       2021\n",
       "16      2007\n",
       "23      1960\n",
       "31      1960\n",
       "20      1935\n",
       "49      1832\n",
       "4       1801\n",
       "34      1664\n",
       "19      1535\n",
       "22      1309\n",
       "40      1295\n",
       "5       1279\n",
       "1       1008\n",
       "44       808\n",
       "42       591\n",
       "52       267\n",
       "51       183\n",
       "Name: region_code, dtype: int64"
      ]
     },
     "execution_count": 17,
     "metadata": {},
     "output_type": "execute_result"
    }
   ],
   "source": [
    "features_df[\"region_code\"].value_counts()"
   ]
  },
  {
   "cell_type": "code",
   "execution_count": 18,
   "id": "6cce669d",
   "metadata": {},
   "outputs": [],
   "source": [
    "policy_sales_channel_value_counts = features_df[\"policy_sales_channel\"].value_counts()"
   ]
  },
  {
   "cell_type": "code",
   "execution_count": 19,
   "id": "ef6cbdb7",
   "metadata": {},
   "outputs": [],
   "source": [
    "relevant_sales_policies = policy_sales_channel_value_counts[\n",
    "    policy_sales_channel_value_counts > 1000\n",
    "].unique()"
   ]
  },
  {
   "cell_type": "code",
   "execution_count": 20,
   "id": "12b69c17",
   "metadata": {},
   "outputs": [
    {
     "data": {
      "text/html": [
       "<div>\n",
       "<style scoped>\n",
       "    .dataframe tbody tr th:only-of-type {\n",
       "        vertical-align: middle;\n",
       "    }\n",
       "\n",
       "    .dataframe tbody tr th {\n",
       "        vertical-align: top;\n",
       "    }\n",
       "\n",
       "    .dataframe thead th {\n",
       "        text-align: right;\n",
       "    }\n",
       "</style>\n",
       "<table border=\"1\" class=\"dataframe\">\n",
       "  <thead>\n",
       "    <tr style=\"text-align: right;\">\n",
       "      <th></th>\n",
       "      <th>age</th>\n",
       "      <th>driving_license</th>\n",
       "      <th>region_code</th>\n",
       "      <th>previously_insured</th>\n",
       "      <th>vehicle_age</th>\n",
       "      <th>vehicle_damage</th>\n",
       "      <th>annual_premium</th>\n",
       "      <th>policy_sales_channel</th>\n",
       "      <th>vintage</th>\n",
       "      <th>male</th>\n",
       "    </tr>\n",
       "    <tr>\n",
       "      <th>id</th>\n",
       "      <th></th>\n",
       "      <th></th>\n",
       "      <th></th>\n",
       "      <th></th>\n",
       "      <th></th>\n",
       "      <th></th>\n",
       "      <th></th>\n",
       "      <th></th>\n",
       "      <th></th>\n",
       "      <th></th>\n",
       "    </tr>\n",
       "  </thead>\n",
       "  <tbody>\n",
       "    <tr>\n",
       "      <th>1</th>\n",
       "      <td>44</td>\n",
       "      <td>True</td>\n",
       "      <td>28</td>\n",
       "      <td>False</td>\n",
       "      <td>2</td>\n",
       "      <td>True</td>\n",
       "      <td>40454.0</td>\n",
       "      <td>26</td>\n",
       "      <td>217</td>\n",
       "      <td>True</td>\n",
       "    </tr>\n",
       "    <tr>\n",
       "      <th>2</th>\n",
       "      <td>76</td>\n",
       "      <td>True</td>\n",
       "      <td>3</td>\n",
       "      <td>False</td>\n",
       "      <td>1</td>\n",
       "      <td>False</td>\n",
       "      <td>33536.0</td>\n",
       "      <td>26</td>\n",
       "      <td>183</td>\n",
       "      <td>True</td>\n",
       "    </tr>\n",
       "    <tr>\n",
       "      <th>3</th>\n",
       "      <td>47</td>\n",
       "      <td>True</td>\n",
       "      <td>28</td>\n",
       "      <td>False</td>\n",
       "      <td>2</td>\n",
       "      <td>True</td>\n",
       "      <td>38294.0</td>\n",
       "      <td>26</td>\n",
       "      <td>27</td>\n",
       "      <td>True</td>\n",
       "    </tr>\n",
       "    <tr>\n",
       "      <th>4</th>\n",
       "      <td>21</td>\n",
       "      <td>True</td>\n",
       "      <td>11</td>\n",
       "      <td>True</td>\n",
       "      <td>0</td>\n",
       "      <td>False</td>\n",
       "      <td>28619.0</td>\n",
       "      <td>152</td>\n",
       "      <td>203</td>\n",
       "      <td>True</td>\n",
       "    </tr>\n",
       "    <tr>\n",
       "      <th>5</th>\n",
       "      <td>29</td>\n",
       "      <td>True</td>\n",
       "      <td>41</td>\n",
       "      <td>True</td>\n",
       "      <td>0</td>\n",
       "      <td>False</td>\n",
       "      <td>27496.0</td>\n",
       "      <td>152</td>\n",
       "      <td>39</td>\n",
       "      <td>False</td>\n",
       "    </tr>\n",
       "  </tbody>\n",
       "</table>\n",
       "</div>"
      ],
      "text/plain": [
       "    age  driving_license region_code  previously_insured  vehicle_age  \\\n",
       "id                                                                      \n",
       "1    44             True          28               False            2   \n",
       "2    76             True           3               False            1   \n",
       "3    47             True          28               False            2   \n",
       "4    21             True          11                True            0   \n",
       "5    29             True          41                True            0   \n",
       "\n",
       "    vehicle_damage  annual_premium policy_sales_channel  vintage   male  \n",
       "id                                                                       \n",
       "1             True         40454.0                   26      217   True  \n",
       "2            False         33536.0                   26      183   True  \n",
       "3             True         38294.0                   26       27   True  \n",
       "4            False         28619.0                  152      203   True  \n",
       "5            False         27496.0                  152       39  False  "
      ]
     },
     "execution_count": 20,
     "metadata": {},
     "output_type": "execute_result"
    }
   ],
   "source": [
    "features_df.head()"
   ]
  },
  {
   "cell_type": "code",
   "execution_count": 21,
   "id": "904a22df",
   "metadata": {},
   "outputs": [],
   "source": [
    "region_code = [\"region_code\"]\n",
    "policy_sales_channel = [\"policy_sales_channel\"]\n",
    "other_categorical_features = [\n",
    "    \"driving_license\",\n",
    "    \"previously_insured\",\n",
    "    \"vehicle_damage\",\n",
    "    \"male\",\n",
    "]\n",
    "\n",
    "\n",
    "numerical_features = [\"age\", \"vehicle_age\", \"annual_premium\", \"vintage\"]"
   ]
  },
  {
   "cell_type": "code",
   "execution_count": 22,
   "id": "dfcbab4b",
   "metadata": {},
   "outputs": [
    {
     "data": {
      "text/plain": [
       "array([134784,  79700,  73995,  21779,  10661,   9930,   6684,   5993,\n",
       "         3885,   2893,   1865,   1848,   1598,   1515,   1410,   1264,\n",
       "         1234,   1203,   1074,   1055,   1026])"
      ]
     },
     "execution_count": 22,
     "metadata": {},
     "output_type": "execute_result"
    }
   ],
   "source": [
    "relevant_sales_policies"
   ]
  },
  {
   "cell_type": "code",
   "execution_count": 23,
   "id": "334b7115",
   "metadata": {},
   "outputs": [],
   "source": [
    "ct = ColumnTransformer(\n",
    "    [\n",
    "        (\n",
    "            \"cat\",\n",
    "            OneHotEncoder(),\n",
    "            other_categorical_features,\n",
    "        ),\n",
    "        (\n",
    "            \"region_code\",\n",
    "            OneHotEncoder(handle_unknown=\"ignore\"),\n",
    "            region_code,\n",
    "        ),\n",
    "        (\n",
    "            \"policy_sales_channel\",\n",
    "            OneHotEncoder(\n",
    "                categories=[relevant_sales_policies],\n",
    "                handle_unknown=\"ignore\",\n",
    "            ),\n",
    "            policy_sales_channel,\n",
    "        ),\n",
    "        (\"num\", \"passthrough\", numerical_features),\n",
    "    ]\n",
    ")"
   ]
  },
  {
   "cell_type": "code",
   "execution_count": 24,
   "id": "57ee7f4d",
   "metadata": {},
   "outputs": [],
   "source": [
    "tree_model = make_pipeline(ct, DecisionTreeClassifier())"
   ]
  },
  {
   "cell_type": "code",
   "execution_count": 25,
   "id": "c26668b2",
   "metadata": {},
   "outputs": [
    {
     "name": "stdout",
     "output_type": "stream",
     "text": [
      "CPU times: user 940 ms, sys: 174 ms, total: 1.11 s\n",
      "Wall time: 27.4 s\n"
     ]
    },
    {
     "data": {
      "text/plain": [
       "{'fit_time': 23.42039163907369,\n",
       " 'score_time': 0.3933785756429036,\n",
       " 'test_accuracy': 0.8229850272963325,\n",
       " 'test_precision': 0.2854492158728215,\n",
       " 'test_recall': 0.295546992078784,\n",
       " 'test_f1': 0.2904055421701895,\n",
       " 'test_auc': 0.5961031869451677}"
      ]
     },
     "execution_count": 25,
     "metadata": {},
     "output_type": "execute_result"
    }
   ],
   "source": [
    "%%time\n",
    "cross_validate_model(tree_model, features_df, response)"
   ]
  },
  {
   "cell_type": "code",
   "execution_count": null,
   "id": "a1e53bd4",
   "metadata": {},
   "outputs": [],
   "source": []
  }
 ],
 "metadata": {
  "environment": {
   "name": "common-cpu.m65",
   "type": "gcloud",
   "uri": "gcr.io/deeplearning-platform-release/base-cpu:m65"
  },
  "kernelspec": {
   "display_name": "Python 3",
   "language": "python",
   "name": "python3"
  },
  "language_info": {
   "codemirror_mode": {
    "name": "ipython",
    "version": 3
   },
   "file_extension": ".py",
   "mimetype": "text/x-python",
   "name": "python",
   "nbconvert_exporter": "python",
   "pygments_lexer": "ipython3",
   "version": "3.7.10"
  }
 },
 "nbformat": 4,
 "nbformat_minor": 5
}
